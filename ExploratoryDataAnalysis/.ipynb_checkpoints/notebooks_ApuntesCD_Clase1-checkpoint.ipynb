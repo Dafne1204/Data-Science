{
  "metadata": {
    "language_info": {
      "codemirror_mode": {
        "name": "python",
        "version": 3
      },
      "file_extension": ".py",
      "mimetype": "text/x-python",
      "name": "python",
      "nbconvert_exporter": "python",
      "pygments_lexer": "ipython3",
      "version": "3.8"
    },
    "kernelspec": {
      "name": "python",
      "display_name": "Python (Pyodide)",
      "language": "python"
    }
  },
  "nbformat_minor": 4,
  "nbformat": 4,
  "cells": [
    {
      "cell_type": "code",
      "source": "import numpy as np",
      "metadata": {
        "trusted": true
      },
      "execution_count": 47,
      "outputs": []
    },
    {
      "cell_type": "code",
      "source": "#Ejemplo de lista. Las listas sonmodificables. Las listas son mutables\nx=[3, 'rrr', 9, 77, 'hh', 6, 7]\nx[1]='aaa'\nprint(x)\nx[-2] # con esto espas pidiendo que te dé la penultima posicion \ntype(x[1])    # con esto sabes que esta almacenado en esa variable",
      "metadata": {
        "trusted": true
      },
      "execution_count": 30,
      "outputs": [
        {
          "name": "stdout",
          "text": "[3, 'aaa', 9, 77, 'hh', 6, 7]\n",
          "output_type": "stream"
        },
        {
          "execution_count": 30,
          "output_type": "execute_result",
          "data": {
            "text/plain": "str"
          },
          "metadata": {}
        }
      ]
    },
    {
      "cell_type": "code",
      "source": "#Ejemplo de tupla. Las tuplas NO son modificables. Las tablas son inmutables\nx1=(3, 'rrr', 9, 77, 'hh', 6, 7)\n#x1[1]='aaa'   Esto no se puede hacer porque es inmutable\nprint(x1[1])",
      "metadata": {
        "trusted": true
      },
      "execution_count": 17,
      "outputs": [
        {
          "name": "stdout",
          "text": "rrr\n",
          "output_type": "stream"
        }
      ]
    },
    {
      "cell_type": "code",
      "source": "#Usar la función range para crear listas\na = list (range(5))   #n=5 significa que tendrá 5 elementos \nprint(a)\nb = list (range( 5, 41, 5))  # range (star, stop, step) se pone en 41 para que escriban el 40\nprint(b)\ntype(b)\ntype(b[3]) \nb[3]      # b en la posicion 4 ",
      "metadata": {
        "trusted": true
      },
      "execution_count": 29,
      "outputs": [
        {
          "name": "stdout",
          "text": "[0, 1, 2, 3, 4]\n[5, 10, 15, 20, 25, 30, 35, 40]\n",
          "output_type": "stream"
        },
        {
          "execution_count": 29,
          "output_type": "execute_result",
          "data": {
            "text/plain": "20"
          },
          "metadata": {}
        }
      ]
    },
    {
      "cell_type": "code",
      "source": "#Usar la función range para crear tuplas\nm=tuple(range(5,41,5))   # range (star, stop, step)\nprint (m) \ntype(m)\n",
      "metadata": {
        "trusted": true
      },
      "execution_count": 26,
      "outputs": [
        {
          "name": "stdout",
          "text": "(5, 10, 15, 20, 25, 30, 35, 40)\n",
          "output_type": "stream"
        },
        {
          "execution_count": 26,
          "output_type": "execute_result",
          "data": {
            "text/plain": "tuple"
          },
          "metadata": {}
        }
      ]
    },
    {
      "cell_type": "code",
      "source": "#Hacer lista de acracteres \nl = list(range(10))\nprint(len(l))\nL2 = [str(s) for s in l] #quien sbe que es s\nl3 = [str(\"daf\") for s in l]\nl3",
      "metadata": {
        "trusted": true
      },
      "execution_count": 34,
      "outputs": [
        {
          "name": "stdout",
          "text": "10\n",
          "output_type": "stream"
        },
        {
          "execution_count": 34,
          "output_type": "execute_result",
          "data": {
            "text/plain": "['daf', 'daf', 'daf', 'daf', 'daf', 'daf', 'daf', 'daf', 'daf', 'daf']"
          },
          "metadata": {}
        }
      ]
    },
    {
      "cell_type": "code",
      "source": "#Array Crea uun arreglo\nimport array           #array es una clase \nL = list(range(10))\nA = array.array('i', L)  # array 1 clase array 2 objeto o método de la clase array estas llamando al método Array i indica que el arreglo es de enteros\nA",
      "metadata": {
        "trusted": true
      },
      "execution_count": 45,
      "outputs": [
        {
          "execution_count": 45,
          "output_type": "execute_result",
          "data": {
            "text/plain": "array('i', [0, 1, 2, 3, 4, 5, 6, 7, 8, 9])"
          },
          "metadata": {}
        }
      ]
    },
    {
      "cell_type": "code",
      "source": "#arreglos\nc=np.array([1,4,8,2.7,9,8, 'c'])\ntype(c)\ntype(c[0])",
      "metadata": {
        "trusted": true
      },
      "execution_count": 51,
      "outputs": [
        {
          "execution_count": 51,
          "output_type": "execute_result",
          "data": {
            "text/plain": "numpy.str_"
          },
          "metadata": {}
        }
      ]
    },
    {
      "cell_type": "code",
      "source": "# nested lists result in multi-dimensional arrays\nnp.array([range(i, i + 8) for i in [2, 4, 6,8, 12]])",
      "metadata": {
        "trusted": true
      },
      "execution_count": 56,
      "outputs": [
        {
          "execution_count": 56,
          "output_type": "execute_result",
          "data": {
            "text/plain": "array([[ 2,  3,  4,  5,  6,  7,  8,  9],\n       [ 4,  5,  6,  7,  8,  9, 10, 11],\n       [ 6,  7,  8,  9, 10, 11, 12, 13],\n       [ 8,  9, 10, 11, 12, 13, 14, 15],\n       [12, 13, 14, 15, 16, 17, 18, 19]])"
          },
          "metadata": {}
        }
      ]
    },
    {
      "cell_type": "code",
      "source": "#lentitud de los ciclos \nimport numpy as np\nnp.random.seed(0)\n\ndef compute_reciprocals(values):        # def indica que vas a definir una función, values es la entrada de la función \n    output = np.empty(len(values))      # len es length i, e longitud \n    for i in range(len(values)):\n        output[i] = 1.0 / values[i]\n    return output\n        \nvalues = np.random.randint(1, 10, size=5)    #Aqui asignas un valor a \"values\"\nprint(values)\ncompute_reciprocals(values)                  #Aqui mandas a llamar la función compute_reciprocals y le estas pasando el valor de values ",
      "metadata": {
        "trusted": true
      },
      "execution_count": 3,
      "outputs": [
        {
          "name": "stdout",
          "text": "[6 1 4 4 8]\n",
          "output_type": "stream"
        },
        {
          "execution_count": 3,
          "output_type": "execute_result",
          "data": {
            "text/plain": "array([0.16666667, 1.        , 0.25      , 0.25      , 0.125     ])"
          },
          "metadata": {}
        }
      ]
    },
    {
      "cell_type": "code",
      "source": "#lentitud de los ciclos  \n# No correr ciclo, muy lento\n#big_array = np.random.randint(1, 100, size=1000000)\n#%timeit compute_reciprocals(big_array)",
      "metadata": {
        "trusted": true
      },
      "execution_count": 6,
      "outputs": [
        {
          "name": "stdout",
          "text": "2.87 s ± 68.6 ms per loop (mean ± std. dev. of 7 runs, 1 loop each)\n",
          "output_type": "stream"
        }
      ]
    },
    {
      "cell_type": "code",
      "source": "#Reoganzar un vector en forma de matriz\n\nx = np.arange(10).reshape((5, 2))\n2 ** x",
      "metadata": {
        "trusted": true
      },
      "execution_count": 15,
      "outputs": [
        {
          "execution_count": 15,
          "output_type": "execute_result",
          "data": {
            "text/plain": "array([[  1,   2],\n       [  4,   8],\n       [ 16,  32],\n       [ 64, 128],\n       [256, 512]], dtype=int32)"
          },
          "metadata": {}
        }
      ]
    },
    {
      "cell_type": "code",
      "source": "#Operaciones aritmeticas con arreglos\nx = np.arange(4)\nprint(\"x     =\", x)\nprint(\"x + 5 =\", x + 5)\nprint(\"x - 5 =\", x - 5)\nprint(\"x * 2 =\", x * 2)\nprint(\"x / 2 =\", x / 2)\nprint(\"x // 2 =\", x // 2)  # floor division\nprint(\"-x     = \", -x)      # negación \nprint(\"x ** 2 = \", x ** 2)   #Exponenciacion\nprint(\"x % 2  = \", x % 2)    #modulo\nnp.add(x, 2)",
      "metadata": {
        "trusted": true
      },
      "execution_count": 20,
      "outputs": [
        {
          "name": "stdout",
          "text": "x     = [0 1 2 3]\nx + 5 = [5 6 7 8]\nx - 5 = [-5 -4 -3 -2]\nx * 2 = [0 2 4 6]\nx / 2 = [0.  0.5 1.  1.5]\nx // 2 = [0 0 1 1]\n-x     =  [ 0 -1 -2 -3]\nx ** 2 =  [0 1 4 9]\nx % 2  =  [0 1 0 1]\n",
          "output_type": "stream"
        },
        {
          "execution_count": 20,
          "output_type": "execute_result",
          "data": {
            "text/plain": "array([2, 3, 4, 5])"
          },
          "metadata": {}
        }
      ]
    },
    {
      "cell_type": "code",
      "source": "#Equivalencias de operaciones artiméticas con sus funciones \n#     lo mismo que arriba, pero con funciones \nx = np.arange(4)\nprint(np.add(x, 5))\nprint(np.subtract(x, 5))\nprint(np.negative(x))\nprint(np.multiply(x,2))\nprint(np.floor_divide(x, 2))\nprint(np.power(x, 2))\nprint(np.mod(x, 2))",
      "metadata": {
        "trusted": true
      },
      "execution_count": 30,
      "outputs": [
        {
          "name": "stdout",
          "text": "[5 6 7 8]\n[-5 -4 -3 -2]\n[ 0 -1 -2 -3]\n[0 2 4 6]\n[0 0 1 1]\n[0 1 4 9]\n[0 1 0 1]\n",
          "output_type": "stream"
        }
      ]
    },
    {
      "cell_type": "code",
      "source": "#Valor absoluto diferentes formas de obtenerlo \nx = np.array([-2, -1, 0, 1, 2])\nabs(x)\nnp.absolute(x)\nnp.abs(x)\nx = np.array([3 - 4j, 4 - 3j, 2 + 0j, 0 + 1j])\nnp.abs(x)",
      "metadata": {
        "trusted": true
      },
      "execution_count": 31,
      "outputs": [
        {
          "execution_count": 31,
          "output_type": "execute_result",
          "data": {
            "text/plain": "array([5., 5., 2., 1.])"
          },
          "metadata": {}
        }
      ]
    },
    {
      "cell_type": "code",
      "source": "#Funciones trigonometricas \ntheta = np.linspace(0, np.pi, 3)   # devuleve numeros espaciados, uniformemente en u intervalo especifico \ntype(theta)\nprint(\"theta      = \", theta)\nprint(\"sin(theta) = \", np.sin(theta))        #saca el seno del arreglo theta\nprint(\"cos(theta) = \", np.cos(theta))        #saca el coseno del arreglo theta\nprint(\"tan(theta) = \", np.tan(theta))        #saca el tangente del arreglo theta\nprint(\"arcsin(x) = \", np.arcsin(x))\nprint(\"arccos(x) = \", np.arccos(x))\nprint(\"arctan(x) = \", np.arctan(x))",
      "metadata": {
        "trusted": true
      },
      "execution_count": 35,
      "outputs": [
        {
          "name": "stdout",
          "text": "theta      =  [0.         1.57079633 3.14159265]\nsin(theta) =  [0.0000000e+00 1.0000000e+00 1.2246468e-16]\ncos(theta) =  [ 1.000000e+00  6.123234e-17 -1.000000e+00]\ntan(theta) =  [ 0.00000000e+00  1.63312394e+16 -1.22464680e-16]\narcsin(x) =  [0.63398387-2.30550903j 0.91761685-2.29991404j 1.57079633+1.3169579j\n 0.        +0.88137359j]\narccos(x) =  [0.93681246+2.30550903j 0.65317947+2.29991404j 0.        -1.3169579j\n 1.57079633-0.88137359j]\narctan(x) =  [1.448307  -0.15899719j 1.40992105-0.11750091j 1.10714872+0.j\n 0.               +infj]\n",
          "output_type": "stream"
        }
      ]
    },
    {
      "cell_type": "code",
      "source": "#exponentes y logaritmos\nx = [1, 2, 3]\nprint(\"x     =\", x)\nprint(\"e^x   =\", np.exp(x))\nprint(\"2^x   =\", np.exp2(x))\nprint(\"3^x   =\", np.power(3, x))\n#\nprint(\"ln(x)    =\", np.log(x))\nprint(\"log2(x)  =\", np.log2(x))\nprint(\"log10(x) =\", np.log10(x))",
      "metadata": {
        "trusted": true
      },
      "execution_count": 37,
      "outputs": [
        {
          "name": "stdout",
          "text": "x     = [1, 2, 3]\ne^x   = [ 2.71828183  7.3890561  20.08553692]\n2^x   = [2. 4. 8.]\n3^x   = [ 3  9 27]\nln(x)    = [0.         0.69314718 1.09861229]\nlog2(x)  = [0.        1.        1.5849625]\nlog10(x) = [0.         0.30103    0.47712125]\n",
          "output_type": "stream"
        }
      ]
    },
    {
      "cell_type": "code",
      "source": "#Salidas especiales o salidas directas\nx = np.arange(1, 6)                #hace un arreglo de 5 elementos, pero ya con valores incluidos\ny = np.empty(5)                 #hace un arreglo de 5 elementos, pero sin valores \nnp.multiply(x, 10, out=y)       #del arreglo x, multiplica sus elementos x10 y guardalo en y\nprint(y)",
      "metadata": {
        "trusted": true
      },
      "execution_count": 47,
      "outputs": [
        {
          "name": "stdout",
          "text": "[10. 20. 30. 40. 50.]\n",
          "output_type": "stream"
        }
      ]
    },
    {
      "cell_type": "code",
      "source": "x = np.arange(1, 6)\nnp.add.reduce(x)     # suma todos los elemntos del arreglo \nprint(x)\nprint(np.add.reduce(x))",
      "metadata": {
        "trusted": true
      },
      "execution_count": 45,
      "outputs": [
        {
          "name": "stdout",
          "text": "[1 2 3 4 5]\n15\n",
          "output_type": "stream"
        }
      ]
    },
    {
      "cell_type": "code",
      "source": "",
      "metadata": {},
      "execution_count": null,
      "outputs": []
    }
  ]
}