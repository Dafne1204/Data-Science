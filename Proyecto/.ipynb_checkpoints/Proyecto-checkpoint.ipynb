{
 "cells": [
  {
   "cell_type": "code",
   "execution_count": 1,
   "id": "e2c60ae8-1204-42cf-8e72-130c336337cc",
   "metadata": {
    "tags": []
   },
   "outputs": [],
   "source": [
    "#Imporamos las librerias \n",
    "\n",
    "import tensorflow as tf\n",
    "from tensorflow.keras import layers, models\n",
    "import matplotlib.pyplot as plt\n",
    "import os\n",
    "import cv2 \n",
    "import numpy as np\n",
    "from numpy.random import randint\n",
    "from sklearn.preprocessing import LabelEncoder\n",
    "from keras.models import Sequential\n",
    "from keras.layers import Conv2D, MaxPooling2D, Flatten, Dense\n",
    "import visualkeras\n",
    "from tensorflow import keras\n",
    "from tensorflow.keras import datasets, layers, models\n",
    "from tensorflow.keras.preprocessing.image import ImageDataGenerator\n",
    "from sklearn.metrics import confusion_matrix,classification_report"
   ]
  },
  {
   "cell_type": "markdown",
   "id": "b0a09954-34ff-41ee-bbe3-7dc7871efbc3",
   "metadata": {},
   "source": [
    "#### Generamos un generador de datos de keras para realizar un preprocesamiento de imagenes que realizará lo siguiente.\n",
    "\n",
    "1. Escala todos los píxeles de las imágenes para que estén entre 0 y 1.\n",
    "2. Aplica aleatoriamente una transformación de sesgo a las imágenes.\n",
    "3. Aplica aleatoriamente una transformación de zoom a las imágenes.\n",
    "4. Divide los datos en un conjunto de entrenamiento y un conjunto de validación. El conjunto de validación es el 20% de los datos."
   ]
  },
  {
   "cell_type": "code",
   "execution_count": 2,
   "id": "676e1487-66b7-4276-8e76-609c1b01fd80",
   "metadata": {
    "tags": []
   },
   "outputs": [],
   "source": [
    "data_generator = keras.preprocessing.image.ImageDataGenerator(\n",
    "    rescale=1./255,\n",
    "    shear_range=0.2,\n",
    "    zoom_range=0.2,\n",
    "    validation_split=0.2  #Nos dale 20% de nuestro total de imagenes el cual es 291 imagenes \n",
    ")"
   ]
  },
  {
   "cell_type": "markdown",
   "id": "88869932-9dec-41e8-b30b-8956d53c4cf4",
   "metadata": {},
   "source": [
    "En esta parte del código encontramos todas nuestras imagenes en la carpeta del dataset, estas estan agrupadas en las clases 'glioma', 'meningioma', 'notumor', 'pituitary'. las cuales consisten en 4 carpetas cada una con 1456 imagenes dando un total de 5824 imagenes categorizadas en las 4 clases mencionada."
   ]
  },
  {
   "cell_type": "code",
   "execution_count": 3,
   "id": "264415a0-c4e0-4dfd-b561-231e8fa0f241",
   "metadata": {},
   "outputs": [
    {
     "name": "stdout",
     "output_type": "stream",
     "text": [
      "Found 5824 images belonging to 4 classes.\n"
     ]
    }
   ],
   "source": [
    "data_path = \"./brain_tumor\"\n",
    "\n",
    "data = data_generator.flow_from_directory(\n",
    "    data_path,\n",
    "    target_size=(64, 64),  #Recibimos las imagenes en 64x64 pixeles\n",
    "    batch_size=32,         #\n",
    "    class_mode='categorical',\n",
    "    classes=['glioma', 'meningioma', 'notumor', 'pituitary'] \n",
    ")\n"
   ]
  },
  {
   "cell_type": "markdown",
   "id": "994f81f8-79d6-4409-91bb-697f06b8190c",
   "metadata": {},
   "source": [
    "Una vez que tenemos la funcion de keras data_generator que nos ayuda a preprocesar las imagenes, vamos a generar nuestro conjunto de entrenamiento y nuestro conjunto de prueba"
   ]
  },
  {
   "cell_type": "markdown",
   "id": "9ae2689a-9c52-4692-85a5-5fd69c31c8a5",
   "metadata": {},
   "source": [
    "##### Conjunto de entrenamiento\n",
    "\n",
    "para nuestro conjunto de entrenamiento, en la funcion data_generator especificamos que nos vamos a quedar con el 20% del total de las imagenes de cada clase para prueba. Siendo que el 80% sera para nuestro conjunto de entrenamiento el cual es, 4660 por las 4 clases."
   ]
  },
  {
   "cell_type": "code",
   "execution_count": 4,
   "id": "119388fb-d268-424d-bacd-2877cd470be1",
   "metadata": {},
   "outputs": [
    {
     "name": "stdout",
     "output_type": "stream",
     "text": [
      "Found 4660 images belonging to 4 classes.\n"
     ]
    }
   ],
   "source": [
    "train_data = data_generator.flow_from_directory(\n",
    "    data_path,\n",
    "    target_size=(64, 64),\n",
    "    batch_size=8,\n",
    "    subset='training',\n",
    "    class_mode='categorical',\n",
    "    classes=['glioma', 'meningioma', 'notumor', 'pituitary']\n",
    ")"
   ]
  },
  {
   "cell_type": "markdown",
   "id": "2144bb50-79c6-4e5e-8024-74cca59156fb",
   "metadata": {},
   "source": [
    "##### Conjunto de prueba \n",
    "\n",
    "para nuestro conjunto de prueba, en la funcion data_generator especificamos que nos vamos a quedar con el 20% del total de las imagenes de cada clase para este conjunto. Siendo 5824 el total de imagenes y 1164 el 20% para este conjunto"
   ]
  },
  {
   "cell_type": "code",
   "execution_count": 5,
   "id": "05eb2fc3-1d56-4d05-af38-45406f3a8050",
   "metadata": {},
   "outputs": [
    {
     "name": "stdout",
     "output_type": "stream",
     "text": [
      "Found 1164 images belonging to 4 classes.\n"
     ]
    }
   ],
   "source": [
    "test_data = data_generator.flow_from_directory(\n",
    "    data_path,\n",
    "    target_size=(64, 64),\n",
    "    batch_size=1,\n",
    "    subset='validation',\n",
    "    class_mode='categorical',\n",
    "    classes=['glioma', 'meningioma', 'notumor', 'pituitary']   \n",
    ")"
   ]
  },
  {
   "cell_type": "markdown",
   "id": "8b0a4921-6116-4d43-8f82-44a0c475fb47",
   "metadata": {},
   "source": [
    "## Contruimos nuestra CNN"
   ]
  },
  {
   "cell_type": "markdown",
   "id": "224d2351-bba6-4054-84bc-7b78d10421c7",
   "metadata": {},
   "source": [
    "Este código define una red neuronal convolucional (CNN) utilizando la biblioteca Keras. La CNN consta de las siguientes capas:\n",
    "\n",
    "Capa convolucional 1:\n",
    "\n",
    "1. Esta capa aplica 32 filtros de tamaño 3x3 a la imagen de entrada.\n",
    "1. La función de activación utilizada es 'relu', que introduce no linealidad en la red.\n",
    "2. La forma de entrada de la imagen se especifica como (64, 64, 3), lo que indica que la imagen tiene una altura de 64 píxeles, un ancho de 64 píxeles y 3 canales (RGB).\n",
    "\n",
    "Capa de pooling máximo 1:\n",
    "\n",
    "1. Esta capa reduce las dimensiones espaciales de los mapas de características en un factor de 2 tanto en altura como en ancho.\n",
    "2. Esto ayuda a reducir el costo computacional y controlar el sobreajuste.\n",
    "\n",
    "Capa convolucional 2:\n",
    "\n",
    "1. Esta capa aplica 64 filtros de tamaño 3x3 a los mapas de características de la capa anterior.\n",
    "2. La función de activación utilizada sigue siendo 'relu'.\n",
    "\n",
    "Capa de pooling máximo 2:\n",
    "\n",
    "1. Similar a la primera capa de pooling máximo, esta capa reduce aún más las dimensiones espaciales de los mapas de características.\n",
    "\n",
    "Capa convolucional 3:\n",
    "\n",
    "1. Esta capa aplica otros 64 filtros de tamaño 3x3 a los mapas de características de la capa anterior.\n",
    "2. La función de activación utilizada sigue siendo 'relu'.\n",
    "\n",
    "Capa plana:\n",
    "\n",
    "1. Esta capa convierte los mapas de características 2D en un vector 1D.\n",
    "2. Esto es necesario antes de alimentar los datos en una capa completamente conectada.\n",
    "\n",
    "Capa densa 1:\n",
    "\n",
    "1. Esta capa es una capa completamente conectada con 64 neuronas.\n",
    "2. La función de activación utilizada es 'relu'.\n",
    "\n",
    "Capa densa 2 (capa de salida):\n",
    "\n",
    "1. Esta capa es la capa de salida final de la CNN.\n",
    "2. Tiene 10 neuronas, que corresponden a las 10 clases posibles (suponiendo que se trata de una tarea de clasificación).\n",
    "3. La función de activación utilizada es 'softmax', que normaliza los valores de salida en probabilidades entre 0 y 1."
   ]
  },
  {
   "cell_type": "code",
   "execution_count": 6,
   "id": "3e5254a7-653d-4a76-8d83-ff74253bffa0",
   "metadata": {},
   "outputs": [
    {
     "data": {
      "image/png": "[encoded data removed]",
      "text/plain": [
       "<PIL.Image.Image image mode=RGBA size=675x331>"
      ]
     },
     "execution_count": 6,
     "metadata": {},
     "output_type": "execute_result"
    }
   ],
   "source": [
    "CNN = keras.Sequential([\n",
    "        keras.layers.Conv2D(32, (3, 3), activation='relu', input_shape=(64, 64, 3)),\n",
    "        keras.layers.MaxPooling2D((2, 2)),\n",
    "        keras.layers.Conv2D(64, (3, 3), activation='relu'),\n",
    "        keras.layers.MaxPooling2D((2, 2)),\n",
    "        keras.layers.Conv2D(64, (3, 3), activation='relu'),\n",
    "        keras.layers.Flatten(),\n",
    "        keras.layers.Dense(64, activation='relu'),\n",
    "        keras.layers.Dense(4,activation='softmax')\n",
    "])\n",
    "\n",
    "visualkeras.layered_view(CNN)"
   ]
  },
  {
   "cell_type": "markdown",
   "id": "c6aa9546-1492-4a12-914e-d4ae6ab18dcd",
   "metadata": {},
   "source": [
    "Compilamos el modelo"
   ]
  },
  {
   "cell_type": "code",
   "execution_count": 7,
   "id": "44c983ac-6641-4167-85cd-3c1ddc260d46",
   "metadata": {},
   "outputs": [],
   "source": [
    "CNN.compile(optimizer='adam',\n",
    "              loss='categorical_crossentropy',\n",
    "              metrics=['accuracy'])"
   ]
  },
  {
   "cell_type": "markdown",
   "id": "1894c2d6-50e5-4b31-805d-11c800c6d692",
   "metadata": {},
   "source": [
    "Entrenamos el moodelo"
   ]
  },
  {
   "cell_type": "code",
   "execution_count": 8,
   "id": "9c2a464b-d0fc-47bb-990f-720f540fbd47",
   "metadata": {},
   "outputs": [
    {
     "name": "stdout",
     "output_type": "stream",
     "text": [
      "Epoch 1/3\n",
      "583/583 [==============================] - 91s 154ms/step - loss: 0.8032 - accuracy: 0.6620 - val_loss: 0.7752 - val_accuracy: 0.6864\n",
      "Epoch 2/3\n",
      "583/583 [==============================] - 31s 52ms/step - loss: 0.5075 - accuracy: 0.8047 - val_loss: 0.6142 - val_accuracy: 0.7595\n",
      "Epoch 3/3\n",
      "583/583 [==============================] - 31s 52ms/step - loss: 0.4105 - accuracy: 0.8427 - val_loss: 0.7295 - val_accuracy: 0.7320\n"
     ]
    },
    {
     "data": {
      "text/plain": [
       "<keras.src.callbacks.History at 0x25124b7d050>"
      ]
     },
     "execution_count": 8,
     "metadata": {},
     "output_type": "execute_result"
    }
   ],
   "source": [
    "CNN.fit(train_data, validation_data=test_data, epochs=3)"
   ]
  },
  {
   "cell_type": "markdown",
   "id": "e95ef414-4005-4633-be4b-6e5cb14fabcd",
   "metadata": {
    "papermill": {
     "duration": 1.996515,
     "end_time": "2023-05-07T14:58:06.438523",
     "exception": false,
     "start_time": "2023-05-07T14:58:04.442008",
     "status": "completed"
    },
    "tags": []
   },
   "source": [
    "### Classification results from CNN"
   ]
  },
  {
   "cell_type": "code",
   "execution_count": 10,
   "id": "dfcb7934-acaa-49fe-a269-606dc27e528d",
   "metadata": {
    "papermill": {
     "duration": 40.179749,
     "end_time": "2023-05-07T14:58:48.795549",
     "exception": false,
     "start_time": "2023-05-07T14:58:08.615800",
     "status": "completed"
    },
    "tags": []
   },
   "outputs": [
    {
     "name": "stdout",
     "output_type": "stream",
     "text": [
      "1164/1164 [==============================] - 8s 6ms/step\n",
      "Classification Report: \n",
      "               precision    recall  f1-score   support\n",
      "\n",
      "           0       0.99      0.44      0.61       291\n",
      "           1       0.51      0.85      0.64       291\n",
      "           2       0.90      0.84      0.87       291\n",
      "           3       0.80      0.76      0.78       291\n",
      "\n",
      "    accuracy                           0.72      1164\n",
      "   macro avg       0.80      0.72      0.72      1164\n",
      "weighted avg       0.80      0.72      0.72      1164\n",
      "\n"
     ]
    }
   ],
   "source": [
    "y_true = []\n",
    "for i in range(test_data.samples // test_data.batch_size):\n",
    "    _, batch_labels = test_data.next()\n",
    "    y_true.extend(np.argmax(batch_labels, axis=-1))\n",
    "\n",
    "# Generating predictions for test data\n",
    "y_probab = CNN.predict(test_data, steps=np.ceil(test_data.samples/test_data.batch_size))\n",
    "\n",
    "#Generating predicted classes for test data\n",
    "y_pred = np.argmax(y_probab, axis=-1)\n",
    "\n",
    "#Generating confusion matrix\n",
    "cm = confusion_matrix(y_true, y_pred)\n",
    "print(\"Classification Report: \\n\", classification_report(y_true, y_pred))"
   ]
  },
  {
   "cell_type": "markdown",
   "id": "2bd19503-8a90-4483-ae14-c8f94694e6cf",
   "metadata": {
    "papermill": {
     "duration": 1.056343,
     "end_time": "2023-05-07T14:30:43.119370",
     "exception": false,
     "start_time": "2023-05-07T14:30:42.063027",
     "status": "completed"
    },
    "tags": []
   },
   "source": [
    "### Matriz de  Confusión"
   ]
  },
  {
   "cell_type": "code",
   "execution_count": 11,
   "id": "55c6c110",
   "metadata": {
    "papermill": {
     "duration": 2.597961,
     "end_time": "2023-05-07T14:58:57.608818",
     "exception": false,
     "start_time": "2023-05-07T14:58:55.010857",
     "status": "completed"
    },
    "scrolled": true,
    "tags": []
   },
   "outputs": [
    {
     "data": {
      "image/png": "[encoded data removed]",
      "text/plain": [
       "<Figure size 640x480 with 2 Axes>"
      ]
     },
     "metadata": {},
     "output_type": "display_data"
    }
   ],
   "source": [
    "plt.imshow(cm, cmap=plt.cm.Blues)\n",
    "plt.title('Confusion Matrix')\n",
    "plt.colorbar()\n",
    "tick_marks = np.arange(len(data.class_indices))\n",
    "plt.xticks(tick_marks, data.class_indices, rotation=90)\n",
    "plt.yticks(tick_marks, data.class_indices)\n",
    "plt.xlabel('Predicted Label')\n",
    "plt.ylabel('Ground Truth')\n",
    "\n",
    "#adding values in each cell\n",
    "thresh = cm.max() / 2.\n",
    "for i, j in zip(range(cm.shape[0]), range(cm.shape[1])):\n",
    "    plt.text(j, i, format(cm[i, j], 'd'),\n",
    "             horizontalalignment=\"center\",\n",
    "             color=\"white\" if cm[i, j] > thresh else \"black\")\n",
    "\n",
    "plt.show()"
   ]
  },
  {
   "cell_type": "code",
   "execution_count": null,
   "id": "743b9b3c-3a34-44c6-a3fe-b149708b70a0",
   "metadata": {},
   "outputs": [],
   "source": []
  },
  {
   "cell_type": "code",
   "execution_count": null,
   "id": "39b7c0be-e669-4122-ba05-38a8dc2a3b2d",
   "metadata": {},
   "outputs": [],
   "source": []
  },
  {
   "cell_type": "code",
   "execution_count": null,
   "id": "e1c2315c-34d9-451d-b64d-89c733e3a938",
   "metadata": {},
   "outputs": [],
   "source": []
  },
  {
   "cell_type": "code",
   "execution_count": null,
   "id": "fe129cb2-a289-4822-856d-310d6c102fa0",
   "metadata": {},
   "outputs": [],
   "source": []
  },
  {
   "cell_type": "code",
   "execution_count": null,
   "id": "59d0c6c3-38c0-4def-91b6-493eafb72f37",
   "metadata": {},
   "outputs": [],
   "source": []
  },
  {
   "cell_type": "code",
   "execution_count": null,
   "id": "4f99a007-b792-4e2a-8bdc-6f3d770b20de",
   "metadata": {},
   "outputs": [],
   "source": []
  },
  {
   "cell_type": "code",
   "execution_count": null,
   "id": "6871d540-f0d7-4f69-b6ff-63ef208b56fc",
   "metadata": {},
   "outputs": [],
   "source": []
  },
  {
   "cell_type": "code",
   "execution_count": null,
   "id": "6263f1cd-f8db-4c26-aaf4-bca12c846c67",
   "metadata": {},
   "outputs": [],
   "source": []
  },
  {
   "cell_type": "code",
   "execution_count": null,
   "id": "01a9c330-ed92-4ea4-91e3-9a4f4da55158",
   "metadata": {},
   "outputs": [],
   "source": []
  },
  {
   "cell_type": "code",
   "execution_count": null,
   "id": "897802da-70df-46ef-a4cf-d37906310ab8",
   "metadata": {},
   "outputs": [],
   "source": []
  },
  {
   "cell_type": "code",
   "execution_count": null,
   "id": "6c3c76b7-022c-44c2-91ab-a793e3ad54fb",
   "metadata": {},
   "outputs": [],
   "source": []
  },
  {
   "cell_type": "code",
   "execution_count": null,
   "id": "eb8bf268-f810-4239-aab9-60cd96764976",
   "metadata": {},
   "outputs": [],
   "source": []
  },
  {
   "cell_type": "code",
   "execution_count": null,
   "id": "f6cde106-163a-49a7-aa2e-218baa7f128f",
   "metadata": {},
   "outputs": [],
   "source": []
  },
  {
   "cell_type": "code",
   "execution_count": null,
   "id": "acdbe9c7-7a22-456c-abaa-5f83d8917111",
   "metadata": {},
   "outputs": [],
   "source": []
  },
  {
   "cell_type": "code",
   "execution_count": null,
   "id": "789a2b5f-88c1-4e07-a620-d46b0afe5f18",
   "metadata": {},
   "outputs": [],
   "source": []
  },
  {
   "cell_type": "code",
   "execution_count": null,
   "id": "36ca87dc-db5b-49a4-94d0-eb394822f7a2",
   "metadata": {},
   "outputs": [],
   "source": []
  },
  {
   "cell_type": "code",
   "execution_count": null,
   "id": "288a879c-90b5-4434-9e3c-dc7548e8de9f",
   "metadata": {},
   "outputs": [],
   "source": []
  },
  {
   "cell_type": "code",
   "execution_count": null,
   "id": "b6371dfe-afd4-44fa-8a32-0d3487cea8d6",
   "metadata": {},
   "outputs": [],
   "source": []
  },
  {
   "cell_type": "code",
   "execution_count": null,
   "id": "dbb19f9f-a88d-4417-acf8-006d9fc9a562",
   "metadata": {},
   "outputs": [],
   "source": []
  },
  {
   "cell_type": "code",
   "execution_count": null,
   "id": "733c7919-35a9-48f7-94cc-5928262cf31d",
   "metadata": {},
   "outputs": [],
   "source": []
  },
  {
   "cell_type": "code",
   "execution_count": null,
   "id": "4680ba60-8b64-4d31-a599-54247e49683c",
   "metadata": {},
   "outputs": [],
   "source": []
  },
  {
   "cell_type": "code",
   "execution_count": null,
   "id": "b9928ed4-a094-41ab-9bc0-634c8307510b",
   "metadata": {},
   "outputs": [],
   "source": []
  },
  {
   "cell_type": "code",
   "execution_count": null,
   "id": "440db4ce-71ed-4cfe-9f17-485355a868be",
   "metadata": {},
   "outputs": [],
   "source": []
  },
  {
   "cell_type": "code",
   "execution_count": null,
   "id": "e4baab4e-d6ea-4c6a-a7a1-8d7489431f3b",
   "metadata": {},
   "outputs": [],
   "source": []
  },
  {
   "cell_type": "code",
   "execution_count": null,
   "id": "36384545-f06e-475a-ab6e-e2df30ac04fb",
   "metadata": {},
   "outputs": [],
   "source": []
  },
  {
   "cell_type": "code",
   "execution_count": null,
   "id": "c5b15e5e-2685-42c7-9a1d-14db30f7f6ee",
   "metadata": {},
   "outputs": [],
   "source": []
  },
  {
   "cell_type": "code",
   "execution_count": null,
   "id": "387ae63c-1774-482e-b6c7-21d792460b53",
   "metadata": {},
   "outputs": [],
   "source": []
  },
  {
   "cell_type": "code",
   "execution_count": null,
   "id": "6cb858d2-1e3e-412d-a35e-70f6548a5c20",
   "metadata": {},
   "outputs": [],
   "source": []
  },
  {
   "cell_type": "code",
   "execution_count": null,
   "id": "ae068a8e-e27f-4fc6-9719-489d9b3fb589",
   "metadata": {},
   "outputs": [],
   "source": []
  },
  {
   "cell_type": "code",
   "execution_count": null,
   "id": "6068c359-6d37-4442-a48a-b5c74ce708f2",
   "metadata": {},
   "outputs": [],
   "source": []
  },
  {
   "cell_type": "code",
   "execution_count": null,
   "id": "6bc90e82-2ec6-4993-8d57-8ba2f71cfb5c",
   "metadata": {},
   "outputs": [],
   "source": []
  },
  {
   "cell_type": "code",
   "execution_count": null,
   "id": "21897ec4-bfcf-445e-8ed6-74827c74dee5",
   "metadata": {},
   "outputs": [],
   "source": []
  },
  {
   "cell_type": "code",
   "execution_count": null,
   "id": "3ff46857-33c8-43a2-b9a0-c6a0dd1a56a1",
   "metadata": {},
   "outputs": [],
   "source": []
  },
  {
   "cell_type": "code",
   "execution_count": null,
   "id": "3f58cecb-d85f-4eca-b731-ad18d98d20b0",
   "metadata": {},
   "outputs": [],
   "source": []
  },
  {
   "cell_type": "code",
   "execution_count": null,
   "id": "a4f1f08b-8e7d-4370-9b18-3643f68870ba",
   "metadata": {},
   "outputs": [],
   "source": []
  },
  {
   "cell_type": "code",
   "execution_count": null,
   "id": "5cdc1542-4c09-4239-b05a-be076e32f9c2",
   "metadata": {},
   "outputs": [],
   "source": []
  },
  {
   "cell_type": "code",
   "execution_count": null,
   "id": "f3ef8a09-48f0-4308-884e-beec74924744",
   "metadata": {},
   "outputs": [],
   "source": []
  },
  {
   "cell_type": "code",
   "execution_count": null,
   "id": "508fafea-60d1-46db-a994-fc01036410fc",
   "metadata": {},
   "outputs": [],
   "source": []
  },
  {
   "cell_type": "code",
   "execution_count": null,
   "id": "a11164c7-c9a6-4c71-bbcc-cd5032e59cfb",
   "metadata": {},
   "outputs": [],
   "source": []
  },
  {
   "cell_type": "code",
   "execution_count": null,
   "id": "8e0de98a-311c-4dab-a79f-92ac3ef3f5c5",
   "metadata": {},
   "outputs": [],
   "source": []
  },
  {
   "cell_type": "code",
   "execution_count": null,
   "id": "c35584d3-3ba2-4850-b24c-f4e5b37eace7",
   "metadata": {},
   "outputs": [],
   "source": []
  },
  {
   "cell_type": "code",
   "execution_count": null,
   "id": "6b7541a2-6831-4fba-8e0a-b858374a1e4f",
   "metadata": {},
   "outputs": [],
   "source": []
  },
  {
   "cell_type": "code",
   "execution_count": null,
   "id": "f285b867-df0e-40ff-8e1c-e6685e162b3f",
   "metadata": {},
   "outputs": [],
   "source": []
  },
  {
   "cell_type": "code",
   "execution_count": null,
   "id": "dc09ff50-d733-4fd8-9a5c-f26a82811572",
   "metadata": {},
   "outputs": [],
   "source": []
  }
 ],
 "metadata": {
  "kernelspec": {
   "display_name": "Python 3 (ipykernel)",
   "language": "python",
   "name": "python3"
  },
  "language_info": {
   "codemirror_mode": {
    "name": "ipython",
    "version": 3
   },
   "file_extension": ".py",
   "mimetype": "text/x-python",
   "name": "python",
   "nbconvert_exporter": "python",
   "pygments_lexer": "ipython3",
   "version": "3.11.4"
  }
 },
 "nbformat": 4,
 "nbformat_minor": 5
}
