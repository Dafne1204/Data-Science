{
 "cells": [
  {
   "cell_type": "code",
   "execution_count": 1,
   "id": "37841858-fd7a-4ae9-afc3-5aec18221cb6",
   "metadata": {
    "tags": []
   },
   "outputs": [],
   "source": [
    "import numpy as np \n",
    "import pandas as pd\n",
    "import re\n",
    "import spacy as spc\n",
    "import nltk\n",
    "from nltk.corpus import stopwords\n",
    "from nltk.tokenize import word_tokenize\n",
    "from sklearn.feature_extraction.text import CountVectorizer\n",
    "from scipy.sparse import coo_matrix, hstack"
   ]
  },
  {
   "cell_type": "markdown",
   "id": "61f4791e-4718-4482-b819-f9408a40af48",
   "metadata": {},
   "source": [
    "### Tarea BoW \n",
    "#### Realizado por: Ixchel Dafne Avendaño Pacheco \n",
    "##### Matricula: 23265456"
   ]
  },
  {
   "cell_type": "markdown",
   "id": "2d928751-96be-44d1-a398-3f357dbce01a",
   "metadata": {},
   "source": [
    "## Datos de entrada"
   ]
  },
  {
   "cell_type": "code",
   "execution_count": 2,
   "id": "9be8c397-e24e-4d11-80aa-52da74526286",
   "metadata": {
    "tags": []
   },
   "outputs": [
    {
     "name": "stdout",
     "output_type": "stream",
     "text": [
      "Nota Salud \n",
      "\n",
      "El alzhéimer se mantiene como una de las condiciones de salud que más preocupan a la sociedad, a poca distancia del cáncer (68%), y frente al ictus (57%) y al infarto (46%). El covid-19, que se situó en cuarto lugar en la primera ola de la encuesta, presentada en plena pandemia, actualmente baja hasta el octavo puesto. El alzhéimer es la primera preocupación de salud a partir de los 55 años, ya que el 79% de los encuestados lo considera el principal problema al que se enfrentan las personas mayores, por encima del cáncer.\n",
      "\n",
      " Nota Economia \n",
      "\n",
      "Las bolsas de valores de México cerraron con ganancias moderadas las negociaciones de media semana. Los índices locales, que subían con mayor fuerza por la mañana, recortaron sus avances ante las publicaciones de las nuevas expectativas de la Reserva Federal para sus tasas. La Fed anunció este miércoles que sus tasas de interés permanecen sin cambio en un rango de 5.25% a 5.50%, en línea con lo esperado por los analistas. Sin embargo, advirtió que podría hacer otro incremento a su tasa de interés clave antes de que terminé este año.\n"
     ]
    }
   ],
   "source": [
    "#La variable a contiene un fragmento de nota periodistica en el ambito de la salud, mientras que la variable b es referente a economia\n",
    "a = \"El alzhéimer se mantiene como una de las condiciones de salud que más preocupan a la sociedad, a poca distancia del cáncer (68%), y frente al ictus (57%) y al infarto (46%). El covid-19, que se situó en cuarto lugar en la primera ola de la encuesta, presentada en plena pandemia, actualmente baja hasta el octavo puesto. El alzhéimer es la primera preocupación de salud a partir de los 55 años, ya que el 79% de los encuestados lo considera el principal problema al que se enfrentan las personas mayores, por encima del cáncer.\"\n",
    "b = \"Las bolsas de valores de México cerraron con ganancias moderadas las negociaciones de media semana. Los índices locales, que subían con mayor fuerza por la mañana, recortaron sus avances ante las publicaciones de las nuevas expectativas de la Reserva Federal para sus tasas. La Fed anunció este miércoles que sus tasas de interés permanecen sin cambio en un rango de 5.25% a 5.50%, en línea con lo esperado por los analistas. Sin embargo, advirtió que podría hacer otro incremento a su tasa de interés clave antes de que terminé este año.\"\n",
    "print(\"Nota Salud \\n\")\n",
    "print(a)\n",
    "print(\"\\n Nota Economia \\n\")\n",
    "print(b)"
   ]
  },
  {
   "cell_type": "markdown",
   "id": "4a97cada-70ac-40b2-98c4-e9c8bd098499",
   "metadata": {},
   "source": [
    "## Procesamiento"
   ]
  },
  {
   "cell_type": "markdown",
   "id": "48fcc468-3003-4e74-a081-3671bb2f8af2",
   "metadata": {},
   "source": [
    "### Limpieza de datos"
   ]
  },
  {
   "cell_type": "code",
   "execution_count": 3,
   "id": "d197634b-5ed6-4154-bbae-4a1b7d31341f",
   "metadata": {
    "tags": []
   },
   "outputs": [
    {
     "name": "stdout",
     "output_type": "stream",
     "text": [
      "el alzhéimer se mantiene como una de las condiciones de salud que más preocupan a la sociedad a poca distancia del cáncer  el covid que se situó en cuarto lugar en la primera ola de la encuesta presentada en plena pandemia actualmente baja hasta el octavo puesto el alzhéimer es la primera preocupación de salud a partir de los  años ya que el  de los encuestados lo considera el principal problema al que se enfrentan las personas mayores por encima del cáncer\n"
     ]
    }
   ],
   "source": [
    "#Limpieza de datos para la nota de salud a\n",
    "a = a.lower()\n",
    "a = re.sub(r\"@\\S+\", \"\", a)  # Eliminar menciones a usuarios\n",
    "a = re.sub(\"http[s]?\\://\\S+\", \"\", a)  # Eliminar enlaces\n",
    "a = re.sub(r\"#\\S+\", \"\", a)  # Eliminar hashtags\n",
    "a = re.sub(r\"[0-9]\", \"\", a)  # Eliminar números\n",
    "a = re.sub(r\"(\\(.*\\))|(\\[.*\\])\", \"\", a)  # Eliminar paréntesis y corchetes\n",
    "a = re.sub(r\"\\n\", \"\", a)  # Eliminar caracteres de nueva línea\n",
    "a = re.sub(r\"(http[s]?\\://\\S+)|([\\[\\(].*[\\)\\]])|([#@]\\S+)|\\n\", \"\", a)  # Eliminar varios patrones\n",
    "a = re.sub(r\"(\\.)|(,)\", \"\", a)  # Eliminar puntos y comas\n",
    "a = re.sub(r\"[¡!]\", \"\", a)  # Eliminar signos de admiración \n",
    "a = re.sub(r\"[¿?]\", \"\", a)  # Eliminar signos de exclamación\n",
    "a = re.sub(r\"[%]\", \"\", a)  # Eliminar signos de porcentaje\n",
    "a = re.sub(r\"[-]\", \"\", a)  # Eliminar guion\n",
    "print(a)"
   ]
  },
  {
   "cell_type": "code",
   "execution_count": 4,
   "id": "074735df-4762-419b-b334-2846b9119fd6",
   "metadata": {
    "tags": []
   },
   "outputs": [
    {
     "name": "stdout",
     "output_type": "stream",
     "text": [
      "las bolsas de valores de méxico cerraron con ganancias moderadas las negociaciones de media semana los índices locales que subían con mayor fuerza por la mañana recortaron sus avances ante las publicaciones de las nuevas expectativas de la reserva federal para sus tasas la fed anunció este miércoles que sus tasas de interés permanecen sin cambio en un rango de  a  en línea con lo esperado por los analistas sin embargo advirtió que podría hacer otro incremento a su tasa de interés clave antes de que terminé este año\n"
     ]
    }
   ],
   "source": [
    "#Limpieza de datos para la nota de economia b\n",
    "b = b.lower()\n",
    "b = re.sub(r\"@\\S+\", \"\", b)  # Eliminar menciones a usuarios\n",
    "b = re.sub(\"http[s]?\\://\\S+\", \"\", b)  # Eliminar enlaces\n",
    "b = re.sub(r\"#\\S+\", \"\", b)  # Eliminar hashtags\n",
    "b = re.sub(r\"[0-9]\", \"\", b)  # Eliminar números\n",
    "b = re.sub(r\"(\\(.*\\))|(\\[.*\\])\", \"\", b)  # Eliminar paréntesis y corchetes\n",
    "b = re.sub(r\"\\n\", \"\", b)  # Eliminar caracteres de nueva línea\n",
    "b = re.sub(r\"(http[s]?\\://\\S+)|([\\[\\(].*[\\)\\]])|([#@]\\S+)|\\n\", \"\", b)  # Eliminar varios patrones\n",
    "b = re.sub(r\"(\\.)|(,)\", \"\", b)  # Eliminar puntos y comas\n",
    "b = re.sub(r\"[¡!]\", \"\", b)  # Eliminar signos de admiración \n",
    "b = re.sub(r\"[¿?]\", \"\", b)  # Eliminar signos de exclamación\n",
    "b = re.sub(r\"[%]\", \"\", b)  # Eliminar signos de porcentaje\n",
    "b = re.sub(r\"[-]\", \"\", b)  # Eliminar guion\n",
    "print(b)"
   ]
  },
  {
   "cell_type": "markdown",
   "id": "30efbd9e-5b98-4810-bffa-b5fb449630d8",
   "metadata": {},
   "source": [
    "### Tokenización"
   ]
  },
  {
   "cell_type": "code",
   "execution_count": 5,
   "id": "86a798d9-a52d-41bf-80b6-4d36808cee15",
   "metadata": {
    "tags": []
   },
   "outputs": [
    {
     "name": "stdout",
     "output_type": "stream",
     "text": [
      "['el', 'alzhéimer', 'se', 'mantiene', 'como', 'una', 'de', 'las', 'condiciones', 'de', 'salud', 'que', 'más', 'preocupan', 'a', 'la', 'sociedad', 'a', 'poca', 'distancia', 'del', 'cáncer', 'el', 'covid', 'que', 'se', 'situó', 'en', 'cuarto', 'lugar', 'en', 'la', 'primera', 'ola', 'de', 'la', 'encuesta', 'presentada', 'en', 'plena', 'pandemia', 'actualmente', 'baja', 'hasta', 'el', 'octavo', 'puesto', 'el', 'alzhéimer', 'es', 'la', 'primera', 'preocupación', 'de', 'salud', 'a', 'partir', 'de', 'los', 'años', 'ya', 'que', 'el', 'de', 'los', 'encuestados', 'lo', 'considera', 'el', 'principal', 'problema', 'al', 'que', 'se', 'enfrentan', 'las', 'personas', 'mayores', 'por', 'encima', 'del', 'cáncer']\n"
     ]
    }
   ],
   "source": [
    "#Tokenización para la nota a \n",
    "tokensa = word_tokenize(a)\n",
    "print(tokensa)"
   ]
  },
  {
   "cell_type": "code",
   "execution_count": 6,
   "id": "b1d2d60d-5b3c-4600-aa2f-d3516a902e45",
   "metadata": {
    "tags": []
   },
   "outputs": [
    {
     "name": "stdout",
     "output_type": "stream",
     "text": [
      "['las', 'bolsas', 'de', 'valores', 'de', 'méxico', 'cerraron', 'con', 'ganancias', 'moderadas', 'las', 'negociaciones', 'de', 'media', 'semana', 'los', 'índices', 'locales', 'que', 'subían', 'con', 'mayor', 'fuerza', 'por', 'la', 'mañana', 'recortaron', 'sus', 'avances', 'ante', 'las', 'publicaciones', 'de', 'las', 'nuevas', 'expectativas', 'de', 'la', 'reserva', 'federal', 'para', 'sus', 'tasas', 'la', 'fed', 'anunció', 'este', 'miércoles', 'que', 'sus', 'tasas', 'de', 'interés', 'permanecen', 'sin', 'cambio', 'en', 'un', 'rango', 'de', 'a', 'en', 'línea', 'con', 'lo', 'esperado', 'por', 'los', 'analistas', 'sin', 'embargo', 'advirtió', 'que', 'podría', 'hacer', 'otro', 'incremento', 'a', 'su', 'tasa', 'de', 'interés', 'clave', 'antes', 'de', 'que', 'terminé', 'este', 'año']\n"
     ]
    }
   ],
   "source": [
    "#Tokenización para la nota b \n",
    "tokensb = word_tokenize(b)\n",
    "print(tokensb)"
   ]
  },
  {
   "cell_type": "markdown",
   "id": "fd21412e-629b-45cc-9a33-731560f470a9",
   "metadata": {},
   "source": [
    "### Stopwords"
   ]
  },
  {
   "cell_type": "code",
   "execution_count": 7,
   "id": "61dc432f-736b-4e79-b7c1-1994f074b065",
   "metadata": {
    "tags": []
   },
   "outputs": [
    {
     "name": "stdout",
     "output_type": "stream",
     "text": [
      "['alzhéimer', 'mantiene', 'condiciones', 'salud', 'preocupan', 'sociedad', 'poca', 'distancia', 'cáncer', 'covid', 'situó', 'cuarto', 'lugar', 'primera', 'ola', 'encuesta', 'presentada', 'plena', 'pandemia', 'actualmente', 'baja', 'octavo', 'puesto', 'alzhéimer', 'primera', 'preocupación', 'salud', 'partir', 'años', 'encuestados', 'considera', 'principal', 'problema', 'enfrentan', 'personas', 'mayores', 'encima', 'cáncer']\n"
     ]
    }
   ],
   "source": [
    "#Eliminamos las Stopwords de la nota de salud \n",
    "spanish_stopwords = stopwords.words('spanish')\n",
    "palabras_filtradasa = [palabra for palabra in tokensa if palabra not in spanish_stopwords]\n",
    "print(palabras_filtradasa)"
   ]
  },
  {
   "cell_type": "code",
   "execution_count": 8,
   "id": "fd8f13ea-dfe0-410e-9d9b-8f41f35efb56",
   "metadata": {
    "tags": []
   },
   "outputs": [
    {
     "name": "stdout",
     "output_type": "stream",
     "text": [
      "['bolsas', 'valores', 'méxico', 'cerraron', 'ganancias', 'moderadas', 'negociaciones', 'media', 'semana', 'índices', 'locales', 'subían', 'mayor', 'fuerza', 'mañana', 'recortaron', 'avances', 'publicaciones', 'nuevas', 'expectativas', 'reserva', 'federal', 'tasas', 'fed', 'anunció', 'miércoles', 'tasas', 'interés', 'permanecen', 'cambio', 'rango', 'línea', 'esperado', 'analistas', 'embargo', 'advirtió', 'podría', 'hacer', 'incremento', 'tasa', 'interés', 'clave', 'terminé', 'año']\n"
     ]
    }
   ],
   "source": [
    "#Eliminamos las Stopwords de la nota de economia\n",
    "spanish_stopwords = stopwords.words('spanish')\n",
    "palabras_filtradasb = [palabra for palabra in tokensb if palabra not in spanish_stopwords]\n",
    "print(palabras_filtradasb)"
   ]
  },
  {
   "cell_type": "markdown",
   "id": "ee0cfb8e-e64d-4bf2-9100-ba437fc77c19",
   "metadata": {},
   "source": [
    "### Lematización"
   ]
  },
  {
   "cell_type": "code",
   "execution_count": 9,
   "id": "12451e37-e732-48dd-9a5d-9f9aa99724ff",
   "metadata": {
    "tags": []
   },
   "outputs": [
    {
     "name": "stdout",
     "output_type": "stream",
     "text": [
      "alzhéimer mantener condición salud preocupar sociedad poco distancia cáncer covid situar cuarto lugar primero ola encuesta presentado pleno pandemia actualmente bajo octavo puesto alzhéimer primero preocupación salud partir año encuestado considerar principal problema enfrentar persona mayor encima cáncer\n"
     ]
    }
   ],
   "source": [
    "#Realizamos la oracion lematizada para la nota de salud  \n",
    "nlp = spc.load(\"es_core_news_sm\")\n",
    "lemaa = nlp(\" \".join(palabras_filtradasa))\n",
    "oracion_lematizadaa = \" \".join([token.lemma_ for token in lemaa])\n",
    "print(oracion_lematizadaa)"
   ]
  },
  {
   "cell_type": "code",
   "execution_count": 10,
   "id": "38f5f44d-3a07-4651-80b8-8f2315479da1",
   "metadata": {
    "tags": []
   },
   "outputs": [
    {
     "name": "stdout",
     "output_type": "stream",
     "text": [
      "bolsa valor méxico cerrar ganancia moderado negociación medio semana índices local subir mayor fuerza mañana recortar avance publicación nuevo expectativa reserva federal tasa fed anunciar miércoles tasa interés permanecer cambio rango líneo esperado analista embargo advertir poder hacer incremento tasa interés clave terminé año\n"
     ]
    }
   ],
   "source": [
    "#Realizamos la oracion lematizada para la nota de economia \n",
    "nlp = spc.load(\"es_core_news_sm\")\n",
    "lemab = nlp(\" \".join(palabras_filtradasb))\n",
    "oracion_lematizadab = \" \".join([token.lemma_ for token in lemab])\n",
    "print(oracion_lematizadab)"
   ]
  },
  {
   "cell_type": "markdown",
   "id": "8e474edf-cae3-4806-9309-f1f24679b1c2",
   "metadata": {},
   "source": [
    "## Bag of Words"
   ]
  },
  {
   "cell_type": "code",
   "execution_count": 11,
   "id": "94f961f0-3057-4f08-b268-c460a50b7f69",
   "metadata": {
    "tags": []
   },
   "outputs": [],
   "source": [
    "# Realizamos la bolsa de palabras para la nota de salud\n",
    "vectorizador = CountVectorizer()\n",
    "vectoresa = vectorizador.fit_transform([oracion_lematizadaa])\n",
    "vocabularioa = vectorizador.get_feature_names_out()"
   ]
  },
  {
   "cell_type": "code",
   "execution_count": 12,
   "id": "fa849b15-a70b-4bf8-87be-0aa69bc62ea9",
   "metadata": {
    "tags": []
   },
   "outputs": [],
   "source": [
    "# Realizamos la bolsa de palabras para la nota de economia\n",
    "vectorizador = CountVectorizer()\n",
    "vectoresb = vectorizador.fit_transform([oracion_lematizadab])\n",
    "vocabulariob = vectorizador.get_feature_names_out()"
   ]
  },
  {
   "cell_type": "markdown",
   "id": "961e279a-ee23-40a1-a0fe-bff9b9404063",
   "metadata": {},
   "source": [
    "### Resultados"
   ]
  },
  {
   "cell_type": "code",
   "execution_count": 13,
   "id": "c71ef6ab-76b1-4e20-adbb-5dd1c25e1348",
   "metadata": {
    "tags": []
   },
   "outputs": [
    {
     "name": "stdout",
     "output_type": "stream",
     "text": [
      "Nota de salud: el alzhéimer se mantiene como una de las condiciones de salud que más preocupan a la sociedad a poca distancia del cáncer  el covid que se situó en cuarto lugar en la primera ola de la encuesta presentada en plena pandemia actualmente baja hasta el octavo puesto el alzhéimer es la primera preocupación de salud a partir de los  años ya que el  de los encuestados lo considera el principal problema al que se enfrentan las personas mayores por encima del cáncer \n",
      "\n",
      "Oración lematizada: alzhéimer mantener condición salud preocupar sociedad poco distancia cáncer covid situar cuarto lugar primero ola encuesta presentado pleno pandemia actualmente bajo octavo puesto alzhéimer primero preocupación salud partir año encuestado considerar principal problema enfrentar persona mayor encima cáncer \n",
      "\n",
      "Vectores Bag of Words: [[1 2 1 1 1 1 1 1 2 1 1 1 1 1 1 1 1 1 1 1 1 1 1 1 1 1 1 2 1 1 1 2 1 1]] \n",
      "\n",
      "Vocabulario: ['actualmente' 'alzhéimer' 'año' 'bajo' 'condición' 'considerar' 'covid'\n",
      " 'cuarto' 'cáncer' 'distancia' 'encima' 'encuesta' 'encuestado'\n",
      " 'enfrentar' 'lugar' 'mantener' 'mayor' 'octavo' 'ola' 'pandemia' 'partir'\n",
      " 'persona' 'pleno' 'poco' 'preocupación' 'preocupar' 'presentado'\n",
      " 'primero' 'principal' 'problema' 'puesto' 'salud' 'situar' 'sociedad']\n"
     ]
    }
   ],
   "source": [
    "# Resultados para la nota de salud\n",
    "print(\"Nota de salud:\", a, \"\\n\")\n",
    "print(\"Oración lematizada:\", oracion_lematizadaa,  \"\\n\")\n",
    "print(\"Vectores Bag of Words:\", vectoresa.toarray(),  \"\\n\")\n",
    "print(\"Vocabulario:\", vocabularioa)"
   ]
  },
  {
   "cell_type": "code",
   "execution_count": 14,
   "id": "c9bab4c1-46b3-4a52-b47b-bed1c8f38f26",
   "metadata": {
    "tags": []
   },
   "outputs": [
    {
     "name": "stdout",
     "output_type": "stream",
     "text": [
      "Nota de economia: las bolsas de valores de méxico cerraron con ganancias moderadas las negociaciones de media semana los índices locales que subían con mayor fuerza por la mañana recortaron sus avances ante las publicaciones de las nuevas expectativas de la reserva federal para sus tasas la fed anunció este miércoles que sus tasas de interés permanecen sin cambio en un rango de  a  en línea con lo esperado por los analistas sin embargo advirtió que podría hacer otro incremento a su tasa de interés clave antes de que terminé este año \n",
      "\n",
      "Oración lematizada: bolsa valor méxico cerrar ganancia moderado negociación medio semana índices local subir mayor fuerza mañana recortar avance publicación nuevo expectativa reserva federal tasa fed anunciar miércoles tasa interés permanecer cambio rango líneo esperado analista embargo advertir poder hacer incremento tasa interés clave terminé año \n",
      "\n",
      "Vectores Bag of Words: [[1 1 1 1 1 1 1 1 1 1 1 1 1 1 1 1 1 1 2 1 1 1 1 1 1 1 1 1 1 1 1 1 1 1 1 1\n",
      "  1 3 1 1 1]] \n",
      "\n",
      "Vocabulario: ['advertir' 'analista' 'anunciar' 'avance' 'año' 'bolsa' 'cambio' 'cerrar'\n",
      " 'clave' 'embargo' 'esperado' 'expectativa' 'fed' 'federal' 'fuerza'\n",
      " 'ganancia' 'hacer' 'incremento' 'interés' 'local' 'líneo' 'mayor'\n",
      " 'mañana' 'medio' 'miércoles' 'moderado' 'méxico' 'negociación' 'nuevo'\n",
      " 'permanecer' 'poder' 'publicación' 'rango' 'recortar' 'reserva' 'semana'\n",
      " 'subir' 'tasa' 'terminé' 'valor' 'índices']\n"
     ]
    }
   ],
   "source": [
    "# Resultados para la nota de economia\n",
    "print(\"Nota de economia:\", b, \"\\n\")\n",
    "print(\"Oración lematizada:\", oracion_lematizadab, \"\\n\")\n",
    "print(\"Vectores Bag of Words:\", vectoresb.toarray(), \"\\n\")\n",
    "print(\"Vocabulario:\", vocabulariob)"
   ]
  },
  {
   "cell_type": "markdown",
   "id": "2bc33f87-9e3c-4474-ac71-42768c865070",
   "metadata": {},
   "source": [
    "### Construir Dataframe"
   ]
  },
  {
   "cell_type": "code",
   "execution_count": 15,
   "id": "97d4b430-187c-4565-8e1f-dcc5504d3525",
   "metadata": {
    "tags": []
   },
   "outputs": [
    {
     "data": {
      "text/html": [
       "<div>\n",
       "<style scoped>\n",
       "    .dataframe tbody tr th:only-of-type {\n",
       "        vertical-align: middle;\n",
       "    }\n",
       "\n",
       "    .dataframe tbody tr th {\n",
       "        vertical-align: top;\n",
       "    }\n",
       "\n",
       "    .dataframe thead th {\n",
       "        text-align: right;\n",
       "    }\n",
       "</style>\n",
       "<table border=\"1\" class=\"dataframe\">\n",
       "  <thead>\n",
       "    <tr style=\"text-align: right;\">\n",
       "      <th></th>\n",
       "      <th>actualmente</th>\n",
       "      <th>alzhéimer</th>\n",
       "      <th>año</th>\n",
       "      <th>bajo</th>\n",
       "      <th>condición</th>\n",
       "      <th>considerar</th>\n",
       "      <th>covid</th>\n",
       "      <th>cuarto</th>\n",
       "      <th>cáncer</th>\n",
       "      <th>distancia</th>\n",
       "      <th>...</th>\n",
       "      <th>preocupar</th>\n",
       "      <th>presentado</th>\n",
       "      <th>primero</th>\n",
       "      <th>principal</th>\n",
       "      <th>problema</th>\n",
       "      <th>puesto</th>\n",
       "      <th>salud</th>\n",
       "      <th>situar</th>\n",
       "      <th>sociedad</th>\n",
       "      <th>Clase</th>\n",
       "    </tr>\n",
       "  </thead>\n",
       "  <tbody>\n",
       "    <tr>\n",
       "      <th>0</th>\n",
       "      <td>1</td>\n",
       "      <td>2</td>\n",
       "      <td>1</td>\n",
       "      <td>1</td>\n",
       "      <td>1</td>\n",
       "      <td>1</td>\n",
       "      <td>1</td>\n",
       "      <td>1</td>\n",
       "      <td>2</td>\n",
       "      <td>1</td>\n",
       "      <td>...</td>\n",
       "      <td>1</td>\n",
       "      <td>1</td>\n",
       "      <td>2</td>\n",
       "      <td>1</td>\n",
       "      <td>1</td>\n",
       "      <td>1</td>\n",
       "      <td>2</td>\n",
       "      <td>1</td>\n",
       "      <td>1</td>\n",
       "      <td>Salud</td>\n",
       "    </tr>\n",
       "  </tbody>\n",
       "</table>\n",
       "<p>1 rows × 35 columns</p>\n",
       "</div>"
      ],
      "text/plain": [
       "   actualmente  alzhéimer  año  bajo  condición  considerar  covid  cuarto  \\\n",
       "0            1          2    1     1          1           1      1       1   \n",
       "\n",
       "   cáncer  distancia  ...  preocupar  presentado  primero  principal  \\\n",
       "0       2          1  ...          1           1        2          1   \n",
       "\n",
       "   problema  puesto  salud  situar  sociedad  Clase  \n",
       "0         1       1      2       1         1  Salud  \n",
       "\n",
       "[1 rows x 35 columns]"
      ]
     },
     "execution_count": 15,
     "metadata": {},
     "output_type": "execute_result"
    }
   ],
   "source": [
    "#Construir data frame para nota de salud \n",
    "df_bwa = pd.DataFrame.sparse.from_spmatrix(vectoresa,columns = vocabularioa)\n",
    "#Agregar Columna Clase\n",
    "df_bwa['Clase'] = 'Salud'\n",
    "df_bwa.head()"
   ]
  },
  {
   "cell_type": "code",
   "execution_count": 16,
   "id": "b9f49822-cf79-4948-96cb-8b41f4a09bb1",
   "metadata": {
    "tags": []
   },
   "outputs": [
    {
     "data": {
      "text/html": [
       "<div>\n",
       "<style scoped>\n",
       "    .dataframe tbody tr th:only-of-type {\n",
       "        vertical-align: middle;\n",
       "    }\n",
       "\n",
       "    .dataframe tbody tr th {\n",
       "        vertical-align: top;\n",
       "    }\n",
       "\n",
       "    .dataframe thead th {\n",
       "        text-align: right;\n",
       "    }\n",
       "</style>\n",
       "<table border=\"1\" class=\"dataframe\">\n",
       "  <thead>\n",
       "    <tr style=\"text-align: right;\">\n",
       "      <th></th>\n",
       "      <th>advertir</th>\n",
       "      <th>analista</th>\n",
       "      <th>anunciar</th>\n",
       "      <th>avance</th>\n",
       "      <th>año</th>\n",
       "      <th>bolsa</th>\n",
       "      <th>cambio</th>\n",
       "      <th>cerrar</th>\n",
       "      <th>clave</th>\n",
       "      <th>embargo</th>\n",
       "      <th>...</th>\n",
       "      <th>rango</th>\n",
       "      <th>recortar</th>\n",
       "      <th>reserva</th>\n",
       "      <th>semana</th>\n",
       "      <th>subir</th>\n",
       "      <th>tasa</th>\n",
       "      <th>terminé</th>\n",
       "      <th>valor</th>\n",
       "      <th>índices</th>\n",
       "      <th>Clase</th>\n",
       "    </tr>\n",
       "  </thead>\n",
       "  <tbody>\n",
       "    <tr>\n",
       "      <th>0</th>\n",
       "      <td>1</td>\n",
       "      <td>1</td>\n",
       "      <td>1</td>\n",
       "      <td>1</td>\n",
       "      <td>1</td>\n",
       "      <td>1</td>\n",
       "      <td>1</td>\n",
       "      <td>1</td>\n",
       "      <td>1</td>\n",
       "      <td>1</td>\n",
       "      <td>...</td>\n",
       "      <td>1</td>\n",
       "      <td>1</td>\n",
       "      <td>1</td>\n",
       "      <td>1</td>\n",
       "      <td>1</td>\n",
       "      <td>3</td>\n",
       "      <td>1</td>\n",
       "      <td>1</td>\n",
       "      <td>1</td>\n",
       "      <td>Economia</td>\n",
       "    </tr>\n",
       "  </tbody>\n",
       "</table>\n",
       "<p>1 rows × 42 columns</p>\n",
       "</div>"
      ],
      "text/plain": [
       "   advertir  analista  anunciar  avance  año  bolsa  cambio  cerrar  clave  \\\n",
       "0         1         1         1       1    1      1       1       1      1   \n",
       "\n",
       "   embargo  ...  rango  recortar  reserva  semana  subir  tasa  terminé  \\\n",
       "0        1  ...      1         1        1       1      1     3        1   \n",
       "\n",
       "   valor  índices     Clase  \n",
       "0      1        1  Economia  \n",
       "\n",
       "[1 rows x 42 columns]"
      ]
     },
     "execution_count": 16,
     "metadata": {},
     "output_type": "execute_result"
    }
   ],
   "source": [
    "#Construir data frame para nota de economia\n",
    "df_bwb = pd.DataFrame.sparse.from_spmatrix(vectoresb,columns = vocabulariob)\n",
    "#Agregar Columna Clase\n",
    "df_bwb['Clase'] = 'Economia'\n",
    "df_bwb.head()"
   ]
  },
  {
   "cell_type": "code",
   "execution_count": 17,
   "id": "8477c36b-ca67-4df7-ab1d-e54b9c1bf6a7",
   "metadata": {
    "tags": []
   },
   "outputs": [
    {
     "data": {
      "text/html": [
       "<div>\n",
       "<style scoped>\n",
       "    .dataframe tbody tr th:only-of-type {\n",
       "        vertical-align: middle;\n",
       "    }\n",
       "\n",
       "    .dataframe tbody tr th {\n",
       "        vertical-align: top;\n",
       "    }\n",
       "\n",
       "    .dataframe thead th {\n",
       "        text-align: right;\n",
       "    }\n",
       "</style>\n",
       "<table border=\"1\" class=\"dataframe\">\n",
       "  <thead>\n",
       "    <tr style=\"text-align: right;\">\n",
       "      <th></th>\n",
       "      <th>actualmente</th>\n",
       "      <th>alzhéimer</th>\n",
       "      <th>año_x</th>\n",
       "      <th>bajo</th>\n",
       "      <th>condición</th>\n",
       "      <th>considerar</th>\n",
       "      <th>covid</th>\n",
       "      <th>cuarto</th>\n",
       "      <th>cáncer</th>\n",
       "      <th>distancia</th>\n",
       "      <th>...</th>\n",
       "      <th>rango</th>\n",
       "      <th>recortar</th>\n",
       "      <th>reserva</th>\n",
       "      <th>semana</th>\n",
       "      <th>subir</th>\n",
       "      <th>tasa</th>\n",
       "      <th>terminé</th>\n",
       "      <th>valor</th>\n",
       "      <th>índices</th>\n",
       "      <th>Clase</th>\n",
       "    </tr>\n",
       "  </thead>\n",
       "  <tbody>\n",
       "    <tr>\n",
       "      <th>0</th>\n",
       "      <td>1.0</td>\n",
       "      <td>2.0</td>\n",
       "      <td>1.0</td>\n",
       "      <td>1.0</td>\n",
       "      <td>1.0</td>\n",
       "      <td>1.0</td>\n",
       "      <td>1.0</td>\n",
       "      <td>1.0</td>\n",
       "      <td>2.0</td>\n",
       "      <td>1.0</td>\n",
       "      <td>...</td>\n",
       "      <td>0.0</td>\n",
       "      <td>0.0</td>\n",
       "      <td>0.0</td>\n",
       "      <td>0.0</td>\n",
       "      <td>0.0</td>\n",
       "      <td>0.0</td>\n",
       "      <td>0.0</td>\n",
       "      <td>0.0</td>\n",
       "      <td>0.0</td>\n",
       "      <td>Salud</td>\n",
       "    </tr>\n",
       "    <tr>\n",
       "      <th>1</th>\n",
       "      <td>0.0</td>\n",
       "      <td>0.0</td>\n",
       "      <td>0.0</td>\n",
       "      <td>0.0</td>\n",
       "      <td>0.0</td>\n",
       "      <td>0.0</td>\n",
       "      <td>0.0</td>\n",
       "      <td>0.0</td>\n",
       "      <td>0.0</td>\n",
       "      <td>0.0</td>\n",
       "      <td>...</td>\n",
       "      <td>1.0</td>\n",
       "      <td>1.0</td>\n",
       "      <td>1.0</td>\n",
       "      <td>1.0</td>\n",
       "      <td>1.0</td>\n",
       "      <td>3.0</td>\n",
       "      <td>1.0</td>\n",
       "      <td>1.0</td>\n",
       "      <td>1.0</td>\n",
       "      <td>Economia</td>\n",
       "    </tr>\n",
       "  </tbody>\n",
       "</table>\n",
       "<p>2 rows × 76 columns</p>\n",
       "</div>"
      ],
      "text/plain": [
       "   actualmente  alzhéimer  año_x  bajo  condición  considerar  covid  cuarto  \\\n",
       "0          1.0        2.0    1.0   1.0        1.0         1.0    1.0     1.0   \n",
       "1          0.0        0.0    0.0   0.0        0.0         0.0    0.0     0.0   \n",
       "\n",
       "   cáncer  distancia  ...  rango  recortar  reserva  semana  subir  tasa  \\\n",
       "0     2.0        1.0  ...    0.0       0.0      0.0     0.0    0.0   0.0   \n",
       "1     0.0        0.0  ...    1.0       1.0      1.0     1.0    1.0   3.0   \n",
       "\n",
       "   terminé  valor  índices     Clase  \n",
       "0      0.0    0.0      0.0     Salud  \n",
       "1      1.0    1.0      1.0  Economia  \n",
       "\n",
       "[2 rows x 76 columns]"
      ]
     },
     "execution_count": 17,
     "metadata": {},
     "output_type": "execute_result"
    }
   ],
   "source": [
    "#Unir ambos data frames en uno solo \n",
    "df = pd.merge(df_bwa, df_bwb, on = 'Clase', how = 'outer')\n",
    "#Eliminar las NaN\n",
    "df = df.fillna(0)\n",
    "#Elimina la columna que se esta indicando dentro de las comillas y se le asigna a column\n",
    "column=df.pop('Clase')\n",
    "#Inserta en la posicion 75 la columna Clase, con la informacion que previamente se guardo en column\n",
    "df.insert(75, 'Clase', column)\n",
    "df.head()"
   ]
  },
  {
   "cell_type": "code",
   "execution_count": null,
   "id": "dd85b73e-e0f4-48a6-9d5c-4f5bdbadaa1c",
   "metadata": {},
   "outputs": [],
   "source": []
  }
 ],
 "metadata": {
  "kernelspec": {
   "display_name": "Python 3 (ipykernel)",
   "language": "python",
   "name": "python3"
  },
  "language_info": {
   "codemirror_mode": {
    "name": "ipython",
    "version": 3
   },
   "file_extension": ".py",
   "mimetype": "text/x-python",
   "name": "python",
   "nbconvert_exporter": "python",
   "pygments_lexer": "ipython3",
   "version": "3.11.4"
  }
 },
 "nbformat": 4,
 "nbformat_minor": 5
}
