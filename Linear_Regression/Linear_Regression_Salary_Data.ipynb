{
 "cells": [
  {
   "cell_type": "code",
   "execution_count": 1,
   "id": "0bb6aa49-3bcd-4201-9205-70fee22c7584",
   "metadata": {
    "tags": []
   },
   "outputs": [],
   "source": [
    "import pandas as pd\n",
    "import numpy as np\n",
    "import matplotlib.pyplot as plt\n",
    "import matplotlib.axes as ax\n",
    "from sklearn.linear_model import LinearRegression"
   ]
  },
  {
   "cell_type": "markdown",
   "id": "2f842bcc-ad2d-477b-9bd8-1d4849ceb3bd",
   "metadata": {},
   "source": [
    "# <span style = \"color:#559DCF\" > Práctica 3: Regresión Lineal </span>\n",
    "\n",
    "### **<span style = \"color:#559DCF\" > Base de Datos: Salary_data**\n",
    "\n",
    "##### Realizado por: Ixchel Dafne Avendaño Pacheco \n",
    "\n",
    "##### Matricula: 23265456"
   ]
  },
  {
   "cell_type": "markdown",
   "id": "99766440-0b31-43a4-8630-cbcee071ab51",
   "metadata": {},
   "source": [
    "<img src= https://www.symmetric.es/wp-content/webp-express/webp-images/uploads/2022/05/regresion-lineal-gradiente-descendente.jpg.webp>"
   ]
  },
  {
   "cell_type": "markdown",
   "id": "5a2d31dd-5374-49ab-9c41-c127f465c39d",
   "metadata": {},
   "source": [
    "La base de datos se obtuvo de UC Irvine. La cual los datos relacionados con la experencia laboral y el salario percibido.\n",
    "\n",
    "\n",
    "A continuación, cargamos la base de datos para el entrenamiento. Y se muestra tipo encabezado"
   ]
  },
  {
   "cell_type": "code",
   "execution_count": 2,
   "id": "1cd30f5e-6274-4d81-8b77-210797d7ddd1",
   "metadata": {
    "tags": []
   },
   "outputs": [
    {
     "data": {
      "text/html": [
       "<div>\n",
       "<style scoped>\n",
       "    .dataframe tbody tr th:only-of-type {\n",
       "        vertical-align: middle;\n",
       "    }\n",
       "\n",
       "    .dataframe tbody tr th {\n",
       "        vertical-align: top;\n",
       "    }\n",
       "\n",
       "    .dataframe thead th {\n",
       "        text-align: right;\n",
       "    }\n",
       "</style>\n",
       "<table border=\"1\" class=\"dataframe\">\n",
       "  <thead>\n",
       "    <tr style=\"text-align: right;\">\n",
       "      <th></th>\n",
       "      <th>YearsExperience</th>\n",
       "      <th>Salary</th>\n",
       "    </tr>\n",
       "  </thead>\n",
       "  <tbody>\n",
       "    <tr>\n",
       "      <th>0</th>\n",
       "      <td>1.1</td>\n",
       "      <td>39343.0</td>\n",
       "    </tr>\n",
       "    <tr>\n",
       "      <th>1</th>\n",
       "      <td>1.3</td>\n",
       "      <td>46205.0</td>\n",
       "    </tr>\n",
       "    <tr>\n",
       "      <th>2</th>\n",
       "      <td>1.5</td>\n",
       "      <td>37731.0</td>\n",
       "    </tr>\n",
       "    <tr>\n",
       "      <th>3</th>\n",
       "      <td>2.0</td>\n",
       "      <td>43525.0</td>\n",
       "    </tr>\n",
       "    <tr>\n",
       "      <th>4</th>\n",
       "      <td>2.2</td>\n",
       "      <td>39891.0</td>\n",
       "    </tr>\n",
       "  </tbody>\n",
       "</table>\n",
       "</div>"
      ],
      "text/plain": [
       "   YearsExperience   Salary\n",
       "0              1.1  39343.0\n",
       "1              1.3  46205.0\n",
       "2              1.5  37731.0\n",
       "3              2.0  43525.0\n",
       "4              2.2  39891.0"
      ]
     },
     "execution_count": 2,
     "metadata": {},
     "output_type": "execute_result"
    }
   ],
   "source": [
    "data_train = pd.read_csv('Salary_Data.csv')\n",
    "data_train.head()"
   ]
  },
  {
   "cell_type": "markdown",
   "id": "4a74ed22-9f37-4540-aea9-dd66f367de22",
   "metadata": {},
   "source": [
    "A continuación, cargamos la base de datos para la prueba. Y se muestra tipo encabezado"
   ]
  },
  {
   "cell_type": "code",
   "execution_count": 3,
   "id": "5710949a-26c6-4218-9c14-2c71f6f930b1",
   "metadata": {
    "tags": []
   },
   "outputs": [
    {
     "data": {
      "text/html": [
       "<div>\n",
       "<style scoped>\n",
       "    .dataframe tbody tr th:only-of-type {\n",
       "        vertical-align: middle;\n",
       "    }\n",
       "\n",
       "    .dataframe tbody tr th {\n",
       "        vertical-align: top;\n",
       "    }\n",
       "\n",
       "    .dataframe thead th {\n",
       "        text-align: right;\n",
       "    }\n",
       "</style>\n",
       "<table border=\"1\" class=\"dataframe\">\n",
       "  <thead>\n",
       "    <tr style=\"text-align: right;\">\n",
       "      <th></th>\n",
       "      <th>YearsExperience</th>\n",
       "      <th>Salary</th>\n",
       "    </tr>\n",
       "  </thead>\n",
       "  <tbody>\n",
       "    <tr>\n",
       "      <th>0</th>\n",
       "      <td>3.7</td>\n",
       "      <td>57189.0</td>\n",
       "    </tr>\n",
       "    <tr>\n",
       "      <th>1</th>\n",
       "      <td>1.3</td>\n",
       "      <td>46205.0</td>\n",
       "    </tr>\n",
       "    <tr>\n",
       "      <th>2</th>\n",
       "      <td>10.3</td>\n",
       "      <td>122391.0</td>\n",
       "    </tr>\n",
       "    <tr>\n",
       "      <th>3</th>\n",
       "      <td>5.1</td>\n",
       "      <td>66029.0</td>\n",
       "    </tr>\n",
       "    <tr>\n",
       "      <th>4</th>\n",
       "      <td>4.1</td>\n",
       "      <td>57081.0</td>\n",
       "    </tr>\n",
       "  </tbody>\n",
       "</table>\n",
       "</div>"
      ],
      "text/plain": [
       "   YearsExperience    Salary\n",
       "0              3.7   57189.0\n",
       "1              1.3   46205.0\n",
       "2             10.3  122391.0\n",
       "3              5.1   66029.0\n",
       "4              4.1   57081.0"
      ]
     },
     "execution_count": 3,
     "metadata": {},
     "output_type": "execute_result"
    }
   ],
   "source": [
    "data_test = pd.read_csv('Salary_test.csv')\n",
    "data_test.head()"
   ]
  },
  {
   "cell_type": "markdown",
   "id": "0a735559-c534-4a74-a922-0e5e722d9541",
   "metadata": {
    "tags": []
   },
   "source": [
    "#### Limpieza de datos \n",
    "\n",
    "Eliminamos los valores NAN del conjunto para prueba y para entrenamiento."
   ]
  },
  {
   "cell_type": "markdown",
   "id": "b8fe9a29-9876-4463-9c3b-6a619d882b2e",
   "metadata": {},
   "source": [
    "#### **<span style=\"color:#AD08EB\">Eliminamos los valores NAN de ambos DataFrame's</span>.**"
   ]
  },
  {
   "cell_type": "code",
   "execution_count": 4,
   "id": "bfefdd5f-450b-40db-a159-67e5a99bca9e",
   "metadata": {
    "tags": []
   },
   "outputs": [
    {
     "name": "stdout",
     "output_type": "stream",
     "text": [
      "<class 'pandas.core.frame.DataFrame'>\n",
      "RangeIndex: 30 entries, 0 to 29\n",
      "Data columns (total 2 columns):\n",
      " #   Column           Non-Null Count  Dtype  \n",
      "---  ------           --------------  -----  \n",
      " 0   YearsExperience  30 non-null     float64\n",
      " 1   Salary           30 non-null     float64\n",
      "dtypes: float64(2)\n",
      "memory usage: 612.0 bytes\n",
      "<class 'pandas.core.frame.DataFrame'>\n",
      "RangeIndex: 30 entries, 0 to 29\n",
      "Data columns (total 2 columns):\n",
      " #   Column           Non-Null Count  Dtype  \n",
      "---  ------           --------------  -----  \n",
      " 0   YearsExperience  30 non-null     float64\n",
      " 1   Salary           30 non-null     float64\n",
      "dtypes: float64(2)\n",
      "memory usage: 612.0 bytes\n"
     ]
    }
   ],
   "source": [
    "data_train = data_train.dropna()\n",
    "data_test = data_test.dropna()\n",
    "#Una vez eliminados los valores NAN mostramos la información \n",
    "data_train.info()\n",
    "data_test.info()"
   ]
  },
  {
   "cell_type": "markdown",
   "id": "f76b5e37-e356-4fba-b59f-a40dd569c9db",
   "metadata": {},
   "source": [
    "Asignación de columnas a las variables x y y. \n",
    "\n",
    "\n",
    "Datos para el entrenamiento"
   ]
  },
  {
   "cell_type": "code",
   "execution_count": 5,
   "id": "5e7610e5-ccf7-4a8b-a550-ac8d63ce1ade",
   "metadata": {
    "tags": []
   },
   "outputs": [],
   "source": [
    "x = data_train['YearsExperience']\n",
    "y = data_train['Salary']"
   ]
  },
  {
   "cell_type": "markdown",
   "id": "2cc7537a-964d-4afe-aa6e-f8051757d5c6",
   "metadata": {},
   "source": [
    "Asignación de columnas a las variables xt y yt.\n",
    "\n",
    "Datos para la prueba "
   ]
  },
  {
   "cell_type": "code",
   "execution_count": 6,
   "id": "0ac4b5a4-a720-4e87-aba4-87eda12ab24b",
   "metadata": {},
   "outputs": [],
   "source": [
    "xt = data_test['YearsExperience']\n",
    "yt = data_test['Salary']"
   ]
  },
  {
   "cell_type": "markdown",
   "id": "a122562a-953e-4fdd-bb07-243dc27fe212",
   "metadata": {},
   "source": [
    "#### Reshape\n",
    "\n",
    "Se le realiza un reshape a las variables de prueba y entrenamiento. Además se asegura que estan pertenezcan a np.array"
   ]
  },
  {
   "cell_type": "code",
   "execution_count": 7,
   "id": "c5f49c14-35e7-44ec-a116-4216888516ce",
   "metadata": {
    "tags": []
   },
   "outputs": [],
   "source": [
    "#Realizamos un Reshape para que los datos de entrenamiento sean de tipo array y se pueda realizar la regresión lineal \n",
    "train_x = np.array(x[0:30]).reshape(30,1)\n",
    "train_y = np.array(y[0:30]).reshape(30,1)\n",
    "\n",
    "#Realizamos un Reshape para que los datos de prueba sean de tipo array y se pueda realizar la regresión lineal \n",
    "test_x = np.array(xt[0:30]).reshape(30,1)\n",
    "test_y = np.array(yt[0:30]).reshape(30,1)"
   ]
  },
  {
   "cell_type": "markdown",
   "id": "21effd97-d262-4ffd-bd4b-8f65fd856989",
   "metadata": {},
   "source": [
    "#### **<span style=\"color:#46B0A2\">Realizamos la regresión lineal</span>.**"
   ]
  },
  {
   "cell_type": "code",
   "execution_count": 8,
   "id": "91451c96-f567-4d04-94b8-3eb8305e992c",
   "metadata": {
    "tags": []
   },
   "outputs": [
    {
     "name": "stdout",
     "output_type": "stream",
     "text": [
      "0.9569566641435086\n"
     ]
    }
   ],
   "source": [
    "reg = LinearRegression().fit(train_x, train_y)\n",
    "print(reg.score(train_x, train_y))"
   ]
  },
  {
   "cell_type": "markdown",
   "id": "98993336-4003-497b-bdd5-a9f45b6f10b5",
   "metadata": {},
   "source": [
    "Observemos que la correlacion entre los datos de prueba es de <span style=\"color:#DD2A05\">0.95</span> . Lo que nos indica que nuestro resultado para la regresión lineal es adecuada. "
   ]
  },
  {
   "cell_type": "raw",
   "id": "b8abaa8c-8393-48e2-9132-433d3b79381f",
   "metadata": {},
   "source": [
    "Se realiza la predicción con los datos de prueba "
   ]
  },
  {
   "cell_type": "code",
   "execution_count": 9,
   "id": "daf735f8-69ce-4c53-9ca7-caf82af79e35",
   "metadata": {
    "tags": []
   },
   "outputs": [
    {
     "name": "stdout",
     "output_type": "stream",
     "text": [
      "[[9449.96232146]]\n",
      "[25792.20019867]\n"
     ]
    }
   ],
   "source": [
    "print(reg.coef_)\n",
    "print(reg.intercept_)\n",
    "y_pred = reg.predict(test_x)"
   ]
  },
  {
   "cell_type": "code",
   "execution_count": 10,
   "id": "8dd77406-9a82-4f17-8f87-098c8966aee3",
   "metadata": {
    "tags": []
   },
   "outputs": [
    {
     "data": {
      "image/png": "[encoded data removed]",
      "text/plain": [
       "<Figure size 640x480 with 1 Axes>"
      ]
     },
     "metadata": {},
     "output_type": "display_data"
    }
   ],
   "source": [
    "# Graficamos la regresión lineal \n",
    "plt.plot(test_x, test_y, '1', label='Actual values', color = '#E1684F')\n",
    "plt.plot(test_x, y_pred, label='Predicted value', color = '#9AD6ED')\n",
    "plt.title('Regresión Lineal')\n",
    "plt.xlabel('Test input')\n",
    "plt.ylabel('Test Output or Predicted output')\n",
    "plt.legend()\n",
    "plt.show()"
   ]
  },
  {
   "cell_type": "markdown",
   "id": "366110ea-2b7f-46e7-b3e3-7bd8f172b1eb",
   "metadata": {},
   "source": [
    "Conclusión \n",
    "\n",
    "En esta práctica se obtuvieron buenos resultados en la regresión lineal, ya que el modelo se entrenó con un dataset y se obtuvo un coeficiente de correlación de 0.95. Al buscar una dataset diferente con el cual poner a prueba el modelo antes generado podemos observar que la predicción de los datos es buena, ya que al observar la gráfica notamos que los datos de prueba se encuentran cercanos al modelo de predicción. \n",
    "\n",
    "\n",
    "Nota: Para esta práctica el modelo se entreno con un dataset de 30 datos y se probó con otro modelo de 30.  "
   ]
  },
  {
   "cell_type": "code",
   "execution_count": null,
   "id": "646c8b7c-5591-4519-958c-c6bd2fdd5868",
   "metadata": {},
   "outputs": [],
   "source": []
  }
 ],
 "metadata": {
  "kernelspec": {
   "display_name": "Python 3 (ipykernel)",
   "language": "python",
   "name": "python3"
  },
  "language_info": {
   "codemirror_mode": {
    "name": "ipython",
    "version": 3
   },
   "file_extension": ".py",
   "mimetype": "text/x-python",
   "name": "python",
   "nbconvert_exporter": "python",
   "pygments_lexer": "ipython3",
   "version": "3.11.4"
  }
 },
 "nbformat": 4,
 "nbformat_minor": 5
}
